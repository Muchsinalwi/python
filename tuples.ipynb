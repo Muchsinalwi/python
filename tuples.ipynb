{
 "cells": [
  {
   "cell_type": "code",
   "execution_count": 7,
   "metadata": {},
   "outputs": [],
   "source": [
    "#tuple merupakan struktur data tempat menyimpan lebih dari satu object dalam suatu urutan (penting dipahami)"
   ]
  },
  {
   "cell_type": "code",
   "execution_count": 8,
   "metadata": {},
   "outputs": [
    {
     "name": "stdout",
     "output_type": "stream",
     "text": [
      "(2, 3, 5, 7, 11, 13)\n"
     ]
    }
   ],
   "source": [
    "#contoh\n",
    "t = (2,3,5,7,11,13)\n",
    "print(t)"
   ]
  },
  {
   "cell_type": "code",
   "execution_count": 9,
   "metadata": {},
   "outputs": [
    {
     "name": "stdout",
     "output_type": "stream",
     "text": [
      "('h', 'a', 'l', 'o')\n"
     ]
    }
   ],
   "source": [
    "x = tuple('halo')\n",
    "print(x)"
   ]
  },
  {
   "cell_type": "code",
   "execution_count": 5,
   "metadata": {},
   "outputs": [
    {
     "name": "stdout",
     "output_type": "stream",
     "text": [
      "10\n"
     ]
    }
   ],
   "source": [
    "tuple1 = ('disco', 10, 1.2)\n",
    "print(tuple1[1])"
   ]
  },
  {
   "cell_type": "code",
   "execution_count": 6,
   "metadata": {},
   "outputs": [
    {
     "name": "stdout",
     "output_type": "stream",
     "text": [
      "('q', 'w', 'e', 'r', 't', 'y')\n",
      "('q', 'w', 'e', 'r', 't', 'y', 'q', 'w', 'e', 'r', 't', 'y', 'q', 'w', 'e', 'r', 't', 'y')\n"
     ]
    }
   ],
   "source": [
    "q = tuple('qwerty')\n",
    "print(q)\n",
    "\n",
    "r = q*3\n",
    "print(r)"
   ]
  },
  {
   "cell_type": "code",
   "execution_count": 7,
   "metadata": {},
   "outputs": [
    {
     "name": "stdout",
     "output_type": "stream",
     "text": [
      "Isi elemen 0 adalah h\n",
      "Isi elemen 1 adalah a\n",
      "Isi elemen 2 adalah l\n",
      "Isi elemen 3 adalah o\n"
     ]
    }
   ],
   "source": [
    "x = tuple('halo')\n",
    "for a, b in enumerate(x):\n",
    "    print('Isi elemen', a, 'adalah', b)"
   ]
  },
  {
   "cell_type": "code",
   "execution_count": 3,
   "metadata": {},
   "outputs": [
    {
     "name": "stdout",
     "output_type": "stream",
     "text": [
      "(2, 3, 4)\n",
      "b\n"
     ]
    }
   ],
   "source": [
    "A = (1, 2, 3, 4, 5)\n",
    "B=[1,2,[3,'a'],[4,'b']]\n",
    "print(A[1:4])\n",
    "print(B[3][1])"
   ]
  },
  {
   "cell_type": "code",
   "execution_count": 4,
   "metadata": {},
   "outputs": [],
   "source": [
    "# Tuples bersifat immutable which means kode block yang sudah dibuat tidak dapat diubah lagi"
   ]
  }
 ],
 "metadata": {
  "kernelspec": {
   "display_name": "Python 3",
   "language": "python",
   "name": "python3"
  },
  "language_info": {
   "codemirror_mode": {
    "name": "ipython",
    "version": 3
   },
   "file_extension": ".py",
   "mimetype": "text/x-python",
   "name": "python",
   "nbconvert_exporter": "python",
   "pygments_lexer": "ipython3",
   "version": "3.11.1"
  }
 },
 "nbformat": 4,
 "nbformat_minor": 2
}
